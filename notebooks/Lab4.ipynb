{
 "cells": [
  {
   "cell_type": "markdown",
   "id": "2d6aadaa-90f8-4bc6-a48d-014f273fe060",
   "metadata": {},
   "source": [
    "# Лабораторная работа №4. ШТРАФНЫЕ И БАРЬЕРНЫЕ ФУНКЦИИ"
   ]
  },
  {
   "cell_type": "markdown",
   "id": "109f2686-f9cb-412d-83be-e1ac8e354a90",
   "metadata": {},
   "source": [
    "## Цель работы: изучить подходы к решению задач оптимизации с ограничениями на примере методов штрафных и барьерных функций. И"
   ]
  },
  {
   "cell_type": "code",
   "execution_count": 1,
   "id": "3a595c38-5dcf-49e0-b2a9-130e32ed97bd",
   "metadata": {},
   "outputs": [],
   "source": [
    "import math\n",
    "import numpy as np\n",
    "from scipy.optimize import minimize_scalar\n",
    "import warnings\n",
    "warnings.filterwarnings(\"ignore\")\n",
    "\n",
    "\n",
    "def Gauss(x, func, n=2, eps = 0.05):\n",
    "    y = x\n",
    "    j = 1\n",
    "    e = np.eye(n)\n",
    "    while(True):\n",
    "        f = lambda x: func(y+x*e[j-1])\n",
    "        result = minimize_scalar(f)\n",
    "        lmbd = result.x\n",
    "        y = y + lmbd*e[j-1]\n",
    "        if j == n:\n",
    "            x_pred = x\n",
    "            x = y\n",
    "            if np.linalg.norm(x - x_pred)<eps:\n",
    "                break\n",
    "            else:\n",
    "                j=1\n",
    "        else:\n",
    "            j+=1\n",
    "    return x"
   ]
  },
  {
   "cell_type": "markdown",
   "id": "b1de997f-e781-4494-8568-4a5798ddd449",
   "metadata": {},
   "source": [
    "### Метод штрафных функций"
   ]
  },
  {
   "cell_type": "code",
   "execution_count": 2,
   "id": "0f86fdb7-d216-4314-8efe-5c619b572f3f",
   "metadata": {},
   "outputs": [],
   "source": [
    "def Method1(x, global_func, r, beta, eps = 0.05):\n",
    "    while (True):\n",
    "        result_minimze = Gauss(x, global_func)\n",
    "        if abs(penalty_func1(result_minimze))<eps:\n",
    "            break\n",
    "        else:\n",
    "            r*=beta\n",
    "\n",
    "    return result_minimze"
   ]
  },
  {
   "cell_type": "markdown",
   "id": "b25f69b9-da9d-4523-8fa4-67f430a9bd76",
   "metadata": {},
   "source": [
    "### Метод барьерных поверхностей"
   ]
  },
  {
   "cell_type": "code",
   "execution_count": 3,
   "id": "4cebf684-20e4-4d2d-bec1-7d99b3a39f3e",
   "metadata": {},
   "outputs": [],
   "source": [
    "def Method2(x, global_func, r, beta, eps = 0.05):\n",
    "    while (True):\n",
    "        result_minimze = Gauss(x, global_func)\n",
    "        if abs(penalty_func2(result_minimze))<eps:\n",
    "            break\n",
    "        else:\n",
    "            r*=beta\n",
    "\n",
    "    return result_minimze"
   ]
  },
  {
   "cell_type": "markdown",
   "id": "114f2144-edcb-4931-9122-4493137e418f",
   "metadata": {},
   "source": [
    "## Решение исходной задачи при помощи методов"
   ]
  },
  {
   "cell_type": "markdown",
   "id": "26758247-3145-412e-86ad-09ac86fe0394",
   "metadata": {},
   "source": [
    "Функция и ее производные"
   ]
  },
  {
   "cell_type": "code",
   "execution_count": 4,
   "id": "2f402695-568d-4b11-9d92-603c05af5287",
   "metadata": {},
   "outputs": [],
   "source": [
    "func = lambda x: x[0]**2 + x[1]**2 + 4*x[1] - 1\n",
    "dfdx = lambda x: -x[0]**2 - x[1]\n",
    "dfdy = lambda x: -x[0] + 2*x[1] + 8"
   ]
  },
  {
   "cell_type": "markdown",
   "id": "f41a3490-9798-4f61-8c35-520c7687f83f",
   "metadata": {},
   "source": [
    "Штрафы"
   ]
  },
  {
   "cell_type": "code",
   "execution_count": 5,
   "id": "5db0414d-15e7-432f-903c-0425e8a5696f",
   "metadata": {},
   "outputs": [],
   "source": [
    "limit1 = lambda x: x[0]-x[1]**2\n",
    "limit2 = lambda x: -1*(x[0]+x[1]-2)"
   ]
  },
  {
   "cell_type": "markdown",
   "id": "1d430ff5-075b-44d2-ae98-94f25b2c92b4",
   "metadata": {},
   "source": [
    "Штрафные функции"
   ]
  },
  {
   "cell_type": "code",
   "execution_count": 6,
   "id": "b4db0956-f52f-4b9d-9ddb-f26fc63a7d37",
   "metadata": {},
   "outputs": [],
   "source": [
    "limits1 = lambda x: 1/(limit1(x)) + 1/(limit2(x))\n",
    "limits2 = lambda x: -1*np.log(limit1(x)) + -1*np.log(limit2(x))"
   ]
  },
  {
   "cell_type": "markdown",
   "id": "95455912-2c36-4ff2-a1a8-144e280f8205",
   "metadata": {},
   "source": [
    "Преобразуем во входную функцию для метода штрафных функций"
   ]
  },
  {
   "cell_type": "code",
   "execution_count": 7,
   "id": "e2cb0731-306a-4fc3-9b96-98ac94833f42",
   "metadata": {},
   "outputs": [],
   "source": [
    "penalty_func1 = lambda x: limits1(x)\n",
    "global_func1 = lambda x: func(x) + r*penalty_func1(x)"
   ]
  },
  {
   "cell_type": "markdown",
   "id": "6aa12d06-d951-4096-a221-ff8afb3c4736",
   "metadata": {},
   "source": [
    "Преобразуем во входную функцию для метода барьерных поверхностей"
   ]
  },
  {
   "cell_type": "code",
   "execution_count": 8,
   "id": "f4e89200-90ac-439d-b8a2-186bda4e646f",
   "metadata": {},
   "outputs": [],
   "source": [
    "penalty_func2 = lambda x: (max(-(dfdx(x)), 0))**beta + (max(-(dfdy(x)), 0))**beta \n",
    "global_func2 = lambda x: func(x) + r*(penalty_func2(x))"
   ]
  },
  {
   "cell_type": "markdown",
   "id": "b08efb8b-d464-4e5a-b989-1be3f569ffcc",
   "metadata": {},
   "source": [
    "Начальные данные"
   ]
  },
  {
   "cell_type": "code",
   "execution_count": 9,
   "id": "2d4577d6-422d-43d8-bf1a-6ddc90031794",
   "metadata": {},
   "outputs": [],
   "source": [
    "x0 = [0.5, -1.5]\n",
    "eps = 0.05\n",
    "r = 0.01\n",
    "beta = 2"
   ]
  },
  {
   "cell_type": "markdown",
   "id": "12af2d4c-675c-457f-8bfc-f80d4d057e43",
   "metadata": {},
   "source": [
    "Вывод работы методов"
   ]
  },
  {
   "cell_type": "code",
   "execution_count": 10,
   "id": "94061738-6073-4c81-9caa-7416bd4ac798",
   "metadata": {},
   "outputs": [
    {
     "name": "stdout",
     "output_type": "stream",
     "text": [
      "МЕТОД ШТРАФНЫХ ФУНКЦИЙ: (0.0, -1.999)\n",
      "\n",
      "МЕТОД БАРЬЕРНЫХ ПОВЕРХНОСТЕЙ (0.0, -2.0)\n"
     ]
    }
   ],
   "source": [
    "result1 = Method1(x0, global_func1, r, beta, eps)\n",
    "print(f'МЕТОД ШТРАФНЫХ ФУНКЦИЙ: {round(result1[0], 3), round(result1[1], 3)}\\n')\n",
    "\n",
    "result2 = Method2(x0, global_func2, r, beta, eps)\n",
    "print(f'МЕТОД БАРЬЕРНЫХ ПОВЕРХНОСТЕЙ {round(result2[0], 3), round(result2[1], 3)}')"
   ]
  }
 ],
 "metadata": {
  "kernelspec": {
   "display_name": "Python 3 (ipykernel)",
   "language": "python",
   "name": "python3"
  },
  "language_info": {
   "codemirror_mode": {
    "name": "ipython",
    "version": 3
   },
   "file_extension": ".py",
   "mimetype": "text/x-python",
   "name": "python",
   "nbconvert_exporter": "python",
   "pygments_lexer": "ipython3",
   "version": "3.9.0"
  }
 },
 "nbformat": 4,
 "nbformat_minor": 5
}

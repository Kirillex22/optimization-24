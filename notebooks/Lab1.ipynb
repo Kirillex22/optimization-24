{
 "cells": [
  {
   "cell_type": "markdown",
   "id": "295f5031-3354-4123-9f91-8d4bbf7847bb",
   "metadata": {},
   "source": [
    "## Цель работы: изучение и анализ поисковых алгоритмов минимизации функции одной переменной: дихотомического, Фибоначчи и «золотого сечения»."
   ]
  },
  {
   "cell_type": "markdown",
   "id": "f1f5b588-b7d2-4393-95a7-024f0c7ef112",
   "metadata": {},
   "source": [
    "## Вариант 10\n",
    "$$\n",
    "f(x) =-\\frac{x}{e^x}, a = 0, b = 3\n",
    "$$"
   ]
  },
  {
   "cell_type": "markdown",
   "id": "434f18c8-e2bd-458e-adf2-a6c8bca4b6a9",
   "metadata": {},
   "source": [
    "### Реализация методов"
   ]
  },
  {
   "cell_type": "code",
   "execution_count": 29,
   "id": "2c8ec228-4222-4bc6-b9d7-7a7c97f760e4",
   "metadata": {},
   "outputs": [],
   "source": [
    "class OneDimensionalOptimization:\n",
    "    def __init__(self, a, b, func, deriv):\n",
    "        self.a, self.b = a, b\n",
    "        self.func = func\n",
    "        self.deriv =  deriv\n",
    "\n",
    "    def dihotomy(self, eps = 0.001):\n",
    "        a, b = self.a, self.b\n",
    "        size = b - a\n",
    "        iter = 0\n",
    "        \n",
    "        while (size > 2*eps):\n",
    "            center = (a+b)/2\n",
    "            x1, x2 = center - eps/2, center + eps/2\n",
    "            \n",
    "            if self.func(x1) > self.func(x2):\n",
    "                a = x1\n",
    "            else:\n",
    "                b = x2\n",
    "\n",
    "            size = b - a\n",
    "            iter += 1\n",
    "            print(f'iter: {iter} | set: [{a},{b}]')\n",
    "\n",
    "        return self.func((a+b)/2), iter*2\n",
    "\n",
    "    def nums(self, n):\n",
    "        res = []\n",
    "        fib1 = fib2 = 1\n",
    "        res.append(fib1)\n",
    "        res.append(fib2)\n",
    "        n -= 2\n",
    "         \n",
    "        while n > 0:\n",
    "            fib1, fib2 = fib2, fib1 + fib2\n",
    "            res.append(fib2)\n",
    "            n -= 1\n",
    "            \n",
    "        return res\n",
    "\n",
    "    def num(self, n):\n",
    "        if n in (1, 2):\n",
    "            return 1\n",
    "        return self.num(n - 1) + self.num(n - 2)\n",
    "\n",
    "    def fibonacci(self, eps = 0.001):\n",
    "        a, b = self.a, self.b\n",
    "        limit = (b-a)/eps\n",
    "        n = 0\n",
    "        Fn = 0\n",
    "        while (Fn <= limit):\n",
    "            n+=1\n",
    "            Fn = self.num(n)       \n",
    "            \n",
    "        F, L = self.nums(n), b - a\n",
    "        f1, f2 = 0, 0\n",
    "        k = n - 1\n",
    "        iter = 0\n",
    "        \n",
    "        while (k > 1):\n",
    "            delta = (F[k-1]/F[k])*L\n",
    "            x1, x2 = a + delta, b - delta\n",
    "            f1, f2 = self.func(x1), self.func(x2)\n",
    "            if f1 > f2:\n",
    "                b = x1\n",
    "                f1, x1 = f2, x2\n",
    "                L = b - a\n",
    "                x2, f2 = a + b - x1, self.func(x2)\n",
    "            else:\n",
    "                a = x2\n",
    "                f2, x2 = f1, x1\n",
    "                L = b - a\n",
    "                x1, f1 = b - (x2 - a), self.func(x1)\n",
    "            k -= 1\n",
    "            iter += 1\n",
    "            print(f'iter: {iter} | set: [{a},{b}]')\n",
    "\n",
    "        return min(f1, f2), iter\n",
    "\n",
    "    def golden_ratio(self, tau = 0.618, eps = 0.001):\n",
    "        a, b = self.a, self.b\n",
    "        L = b - a\n",
    "        iter = 0\n",
    "        f1, f2 = 0, 0\n",
    "\n",
    "        while(L > eps):\n",
    "            delta =  L*tau\n",
    "            x1, x2 = a + delta, b - delta\n",
    "            f1, f2 = self.func(x1), self.func(x2)\n",
    "    \n",
    "            if f1 > f2:\n",
    "                b = x1\n",
    "                f1, x1 = f2, x2\n",
    "                L = b - a\n",
    "                x2, f2 = a + b - x1, self.func(x2)\n",
    "    \n",
    "            else:\n",
    "                a = x2\n",
    "                f2, x2 = f1, x1\n",
    "                L = b - a\n",
    "                x1, f1 = b - (x2 - a), self.func(x1)\n",
    "\n",
    "            iter += 1\n",
    "            print(f'iter: {iter} | set: [{a},{b}]')\n",
    "                \n",
    "        return min(f1, f2), iter\n",
    "    \n",
    "    def binary_division(self, eps = 0.001):\n",
    "        a = self.a\n",
    "        b = self.b\n",
    "        iter = 0\n",
    "        treshold = 2*eps/(b-a)\n",
    "        n=0\n",
    "\n",
    "        while (0.5**n <= treshold):\n",
    "            n+=1\n",
    "\n",
    "        k = 0\n",
    "        \n",
    "        while(k < n-1):\n",
    "            k +=1\n",
    "            x = (a+b)/2\n",
    "            der_value = self.deriv(x)\n",
    "            if der_value == 0:\n",
    "                return self.func(x)\n",
    "            elif der_value > 0:\n",
    "                b = x\n",
    "            else:\n",
    "                a = x\n",
    "\n",
    "            iter += 1\n",
    "            print(f'iter: {iter} | set: [{a},{b}]')\n",
    "\n",
    "        return self.func((a+b)/2), iter"
   ]
  },
  {
   "cell_type": "markdown",
   "id": "f4e0171e-b975-4a6c-90db-26e432e4eeba",
   "metadata": {},
   "source": [
    "### Тестирование"
   ]
  },
  {
   "cell_type": "code",
   "execution_count": 30,
   "id": "8891e191-8db9-4cf0-b8fb-efb759f56106",
   "metadata": {},
   "outputs": [],
   "source": [
    "import math\n",
    "odo = OneDimensionalOptimization(0, 3, lambda x: -x/math.exp(x), lambda x: (x-1)/math.exp(x))"
   ]
  },
  {
   "cell_type": "code",
   "execution_count": 31,
   "id": "e216c976-0cf9-478e-af53-5b208caea9ca",
   "metadata": {},
   "outputs": [
    {
     "name": "stdout",
     "output_type": "stream",
     "text": [
      "iter: 1 | set: [0,1.55]\n",
      "iter: 2 | set: [0.725,1.55]\n",
      "iter: 3 | set: [0.725,1.1875]\n",
      "iter: 4 | set: [0.90625,1.1875]\n",
      "iter: 5 | set: [0.90625,1.096875]\n",
      "(-0.3678789925673678, 10)\n"
     ]
    }
   ],
   "source": [
    "dih = odo.dihotomy(eps = 0.1)\n",
    "print(dih)"
   ]
  },
  {
   "cell_type": "code",
   "execution_count": 32,
   "id": "5582c139-f151-4571-a4cc-23d11dde04fa",
   "metadata": {},
   "outputs": [
    {
     "name": "stdout",
     "output_type": "stream",
     "text": [
      "iter: 1 | set: [0,1.8529411764705883]\n",
      "iter: 2 | set: [0.7058823529411764,1.8529411764705883]\n",
      "iter: 3 | set: [0.7058823529411764,1.411764705882353]\n",
      "iter: 4 | set: [0.7058823529411764,1.1470588235294117]\n",
      "iter: 5 | set: [0.8823529411764706,1.1470588235294117]\n",
      "iter: 6 | set: [0.8823529411764706,1.0588235294117647]\n",
      "iter: 7 | set: [0.9705882352941176,1.0588235294117647]\n",
      "(-0.3677171691342093, 7)\n"
     ]
    }
   ],
   "source": [
    "fib = odo.fibonacci(eps = 0.1)\n",
    "print(fib)"
   ]
  },
  {
   "cell_type": "code",
   "execution_count": 33,
   "id": "efcf50bc-be3f-4d40-ad9b-0df3a1d91e1d",
   "metadata": {},
   "outputs": [
    {
     "name": "stdout",
     "output_type": "stream",
     "text": [
      "iter: 1 | set: [0,1.854]\n",
      "iter: 2 | set: [0.7082280000000001,1.854]\n",
      "iter: 3 | set: [0.7082280000000001,1.416315096]\n",
      "iter: 4 | set: [0.7082280000000001,1.145825825328]\n",
      "iter: 5 | set: [0.875390369275296,1.145825825328]\n",
      "iter: 6 | set: [0.875390369275296,1.0425194811158671]\n",
      "iter: 7 | set: [0.9392336899983942,1.0425194811158671]\n",
      "iter: 8 | set: [0.9786888622052689,1.0425194811158671]\n",
      "(-0.36787771750385473, 8)\n"
     ]
    }
   ],
   "source": [
    "gld = odo.golden_ratio(eps = 0.1)\n",
    "print(gld)"
   ]
  },
  {
   "cell_type": "code",
   "execution_count": 34,
   "id": "fe2fef03",
   "metadata": {},
   "outputs": [
    {
     "name": "stdout",
     "output_type": "stream",
     "text": [
      "(-0.33469524022264474, 0)\n"
     ]
    }
   ],
   "source": [
    "bin = odo.binary_division(eps = 0.1)\n",
    "print(bin)"
   ]
  },
  {
   "cell_type": "markdown",
   "id": "5acf8052-288b-46ec-bf70-de98288ef78d",
   "metadata": {},
   "source": [
    "### Составление таблиц"
   ]
  },
  {
   "cell_type": "code",
   "execution_count": 35,
   "id": "c2fb023b-4633-484b-879f-f4de529737d4",
   "metadata": {},
   "outputs": [],
   "source": [
    "import numpy as np"
   ]
  },
  {
   "cell_type": "code",
   "execution_count": 36,
   "id": "d557cda4-8fa9-4650-8c7c-3857d40d1c02",
   "metadata": {},
   "outputs": [],
   "source": [
    "eps_set = np.arange(0.001, 0.1, 0.01)"
   ]
  },
  {
   "cell_type": "code",
   "execution_count": null,
   "id": "326c833a-9b60-4772-b772-6fc0a03a2163",
   "metadata": {},
   "outputs": [],
   "source": [
    "results_dih = []\n",
    "results_gld = []\n",
    "results_fib = []\n",
    "results_bin = []\n",
    "for i in eps_set:\n",
    "    results_dih.append(odo.dihotomy(eps = i)[0])\n",
    "    results_gld.append(odo.fibonacci(eps = i)[0])\n",
    "    results_fib.append(odo.golden_ratio(eps = i)[0])\n",
    "    results_bin.append(odo.binary_division(eps = i)[0])"
   ]
  },
  {
   "cell_type": "code",
   "execution_count": 38,
   "id": "75a836ab-1449-4001-933d-29d5121eb3d9",
   "metadata": {},
   "outputs": [],
   "source": [
    "import pandas as pd"
   ]
  },
  {
   "cell_type": "code",
   "execution_count": 39,
   "id": "47c6bd50-d031-4cad-a3f1-b0e6f5553f01",
   "metadata": {},
   "outputs": [],
   "source": [
    "res = pd.DataFrame(data = {'eps': eps_set, 'dihotomy': results_dih, 'fibonacci': results_fib, 'golden_ratio': results_gld, 'binary_division': results_bin})"
   ]
  },
  {
   "cell_type": "code",
   "execution_count": 40,
   "id": "07580258-148c-443d-9b10-f15200c6d05e",
   "metadata": {},
   "outputs": [
    {
     "data": {
      "text/html": [
       "<div>\n",
       "<style scoped>\n",
       "    .dataframe tbody tr th:only-of-type {\n",
       "        vertical-align: middle;\n",
       "    }\n",
       "\n",
       "    .dataframe tbody tr th {\n",
       "        vertical-align: top;\n",
       "    }\n",
       "\n",
       "    .dataframe thead th {\n",
       "        text-align: right;\n",
       "    }\n",
       "</style>\n",
       "<table border=\"1\" class=\"dataframe\">\n",
       "  <thead>\n",
       "    <tr style=\"text-align: right;\">\n",
       "      <th></th>\n",
       "      <th>eps</th>\n",
       "      <th>dihotomy</th>\n",
       "      <th>fibonacci</th>\n",
       "      <th>golden_ratio</th>\n",
       "      <th>binary_division</th>\n",
       "    </tr>\n",
       "  </thead>\n",
       "  <tbody>\n",
       "    <tr>\n",
       "      <th>0</th>\n",
       "      <td>0.001</td>\n",
       "      <td>-0.367879</td>\n",
       "      <td>-0.367879</td>\n",
       "      <td>-0.367879</td>\n",
       "      <td>-0.334695</td>\n",
       "    </tr>\n",
       "    <tr>\n",
       "      <th>1</th>\n",
       "      <td>0.011</td>\n",
       "      <td>-0.367879</td>\n",
       "      <td>-0.367879</td>\n",
       "      <td>-0.367878</td>\n",
       "      <td>-0.334695</td>\n",
       "    </tr>\n",
       "    <tr>\n",
       "      <th>2</th>\n",
       "      <td>0.021</td>\n",
       "      <td>-0.367874</td>\n",
       "      <td>-0.367878</td>\n",
       "      <td>-0.367879</td>\n",
       "      <td>-0.334695</td>\n",
       "    </tr>\n",
       "    <tr>\n",
       "      <th>3</th>\n",
       "      <td>0.031</td>\n",
       "      <td>-0.367879</td>\n",
       "      <td>-0.367878</td>\n",
       "      <td>-0.367879</td>\n",
       "      <td>-0.334695</td>\n",
       "    </tr>\n",
       "    <tr>\n",
       "      <th>4</th>\n",
       "      <td>0.041</td>\n",
       "      <td>-0.367878</td>\n",
       "      <td>-0.367878</td>\n",
       "      <td>-0.367856</td>\n",
       "      <td>-0.334695</td>\n",
       "    </tr>\n",
       "    <tr>\n",
       "      <th>5</th>\n",
       "      <td>0.051</td>\n",
       "      <td>-0.367832</td>\n",
       "      <td>-0.367878</td>\n",
       "      <td>-0.367856</td>\n",
       "      <td>-0.334695</td>\n",
       "    </tr>\n",
       "    <tr>\n",
       "      <th>6</th>\n",
       "      <td>0.061</td>\n",
       "      <td>-0.367822</td>\n",
       "      <td>-0.367878</td>\n",
       "      <td>-0.367818</td>\n",
       "      <td>-0.334695</td>\n",
       "    </tr>\n",
       "    <tr>\n",
       "      <th>7</th>\n",
       "      <td>0.071</td>\n",
       "      <td>-0.367811</td>\n",
       "      <td>-0.367878</td>\n",
       "      <td>-0.367818</td>\n",
       "      <td>-0.334695</td>\n",
       "    </tr>\n",
       "    <tr>\n",
       "      <th>8</th>\n",
       "      <td>0.081</td>\n",
       "      <td>-0.367799</td>\n",
       "      <td>-0.367878</td>\n",
       "      <td>-0.367818</td>\n",
       "      <td>-0.334695</td>\n",
       "    </tr>\n",
       "    <tr>\n",
       "      <th>9</th>\n",
       "      <td>0.091</td>\n",
       "      <td>-0.367879</td>\n",
       "      <td>-0.367878</td>\n",
       "      <td>-0.367717</td>\n",
       "      <td>-0.334695</td>\n",
       "    </tr>\n",
       "  </tbody>\n",
       "</table>\n",
       "</div>"
      ],
      "text/plain": [
       "     eps  dihotomy  fibonacci  golden_ratio  binary_division\n",
       "0  0.001 -0.367879  -0.367879     -0.367879        -0.334695\n",
       "1  0.011 -0.367879  -0.367879     -0.367878        -0.334695\n",
       "2  0.021 -0.367874  -0.367878     -0.367879        -0.334695\n",
       "3  0.031 -0.367879  -0.367878     -0.367879        -0.334695\n",
       "4  0.041 -0.367878  -0.367878     -0.367856        -0.334695\n",
       "5  0.051 -0.367832  -0.367878     -0.367856        -0.334695\n",
       "6  0.061 -0.367822  -0.367878     -0.367818        -0.334695\n",
       "7  0.071 -0.367811  -0.367878     -0.367818        -0.334695\n",
       "8  0.081 -0.367799  -0.367878     -0.367818        -0.334695\n",
       "9  0.091 -0.367879  -0.367878     -0.367717        -0.334695"
      ]
     },
     "execution_count": 40,
     "metadata": {},
     "output_type": "execute_result"
    }
   ],
   "source": [
    "res"
   ]
  },
  {
   "cell_type": "markdown",
   "id": "0adfca7e-061c-4aa0-876d-c7affbf6b9e2",
   "metadata": {},
   "source": [
    "### Графики"
   ]
  },
  {
   "cell_type": "code",
   "execution_count": null,
   "id": "8949b60b-d8c2-4639-804b-9c3354535b44",
   "metadata": {
    "scrolled": true
   },
   "outputs": [],
   "source": [
    "eps_set = np.arange(0.001, 0.1, 0.001)\n",
    "iters_dih = []\n",
    "iters_gld = []\n",
    "iters_fib = []\n",
    "iters_bin = []\n",
    "for i in eps_set:\n",
    "    iters_dih.append(odo.dihotomy(eps = i)[1])\n",
    "    iters_gld.append(odo.golden_ratio(eps = i)[1])\n",
    "    iters_fib.append(odo.fibonacci(eps = i)[1])\n",
    "    iters_bin.append(odo.binary_division(eps = i)[1])"
   ]
  },
  {
   "cell_type": "code",
   "execution_count": 42,
   "id": "d2d319bc-b3fb-40ca-aee3-f935043575a5",
   "metadata": {},
   "outputs": [],
   "source": [
    "eps_set = np.log(eps_set)"
   ]
  },
  {
   "cell_type": "code",
   "execution_count": 43,
   "id": "9a1c873b-75d3-4a52-a8b8-a81d1443faf1",
   "metadata": {},
   "outputs": [],
   "source": [
    "import matplotlib.pyplot as plt"
   ]
  },
  {
   "cell_type": "code",
   "execution_count": 44,
   "id": "fa8e9bed-6154-4b1d-ad84-72078593633f",
   "metadata": {},
   "outputs": [
    {
     "data": {
      "image/png": "[encoded data removed]",
      "text/plain": [
       "<Figure size 640x480 with 1 Axes>"
      ]
     },
     "metadata": {},
     "output_type": "display_data"
    }
   ],
   "source": [
    "plt.plot(eps_set, iters_dih)\n",
    "plt.title(\"Метод дихотомии\")\n",
    "plt.xlabel(\"exp(eps)\")\n",
    "plt.ylabel(\"iters\")\n",
    "plt.show()"
   ]
  },
  {
   "cell_type": "code",
   "execution_count": 45,
   "id": "5bd0ee7f-9d76-4e6c-bc80-54ff698a86a2",
   "metadata": {},
   "outputs": [
    {
     "data": {
      "image/png": "[encoded data removed]",
      "text/plain": [
       "<Figure size 640x480 with 1 Axes>"
      ]
     },
     "metadata": {},
     "output_type": "display_data"
    }
   ],
   "source": [
    "plt.plot(eps_set, iters_fib)\n",
    "plt.title(\"Метод Фибоначчи\")\n",
    "plt.xlabel(\"exp(eps)\")\n",
    "plt.ylabel(\"iters\")\n",
    "plt.show()"
   ]
  },
  {
   "cell_type": "code",
   "execution_count": 46,
   "id": "d3d33efd-8593-4979-b821-3931955bf9e7",
   "metadata": {},
   "outputs": [
    {
     "data": {
      "image/png": "[encoded data removed]",
      "text/plain": [
       "<Figure size 640x480 with 1 Axes>"
      ]
     },
     "metadata": {},
     "output_type": "display_data"
    }
   ],
   "source": [
    "plt.plot(eps_set, iters_gld)\n",
    "plt.title(\"Метод золотого сечения\")\n",
    "plt.xlabel(\"exp(eps)\")\n",
    "plt.ylabel(\"iters\")\n",
    "plt.show()"
   ]
  },
  {
   "cell_type": "code",
   "execution_count": 47,
   "id": "5caaee5f-530c-451a-baac-283888a22be4",
   "metadata": {},
   "outputs": [
    {
     "data": {
      "image/png": "[encoded data removed]",
      "text/plain": [
       "<Figure size 640x480 with 1 Axes>"
      ]
     },
     "metadata": {},
     "output_type": "display_data"
    }
   ],
   "source": [
    "plt.plot(eps_set, iters_bin)\n",
    "plt.title(\"Метод деления пополам\")\n",
    "plt.xlabel(\"exp(eps)\")\n",
    "plt.ylabel(\"iters\")\n",
    "plt.show()"
   ]
  }
 ],
 "metadata": {
  "kernelspec": {
   "display_name": "Python 3 (ipykernel)",
   "language": "python",
   "name": "python3"
  },
  "language_info": {
   "codemirror_mode": {
    "name": "ipython",
    "version": 3
   },
   "file_extension": ".py",
   "mimetype": "text/x-python",
   "name": "python",
   "nbconvert_exporter": "python",
   "pygments_lexer": "ipython3",
   "version": "3.9.0"
  }
 },
 "nbformat": 4,
 "nbformat_minor": 5
}

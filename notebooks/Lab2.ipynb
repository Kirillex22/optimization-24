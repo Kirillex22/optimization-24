{
 "cells": [
  {
   "cell_type": "markdown",
   "id": "9562ac65-4818-4a0c-83a7-0104330714d8",
   "metadata": {},
   "source": [
    "## Цель работы: ознакомление с методами поиска минимума функции двух переменных в оптимизационных задачах без ограничений (метод Гаусса\u0002Зейделя, метод наискорейшего спуска, методы сопряженных направлений)."
   ]
  },
  {
   "cell_type": "markdown",
   "id": "b7dc5e6a-e0f1-4aaa-9eb6-ee020a15c1ca",
   "metadata": {},
   "source": [
    "## Вариант 10\n",
    "$$\n",
    "f(x) =20-(x-1)*e^{-x+1} - (y-2)*e^{-y+2}, a = -10, b = 10\n",
    "$$"
   ]
  },
  {
   "cell_type": "code",
   "execution_count": 32,
   "id": "4682819d-86e6-4352-80fe-40f6d529660a",
   "metadata": {},
   "outputs": [],
   "source": [
    "import math\n",
    "import numpy as np\n",
    "\n",
    "def dihotomy(a, b, func, eps = 0.001):\n",
    "    while (abs(b-a) > 2*eps):\n",
    "        L = (a+b)/2\n",
    "        x1 = L - (eps/2)\n",
    "        x2 = L + (eps/2)\n",
    "        \n",
    "        if func(x1)>func(x2):\n",
    "            a = x1\n",
    "        else:\n",
    "            b = x2  \n",
    "    result = (a+b)/2\n",
    "\n",
    "    return result\n",
    "\n",
    "def golden_ratio(a, b, func, tau = 0.618, eps = 0.001):\n",
    "        L = b - a\n",
    "        f1, f2 = 0, 0\n",
    "\n",
    "        while(L > eps):\n",
    "            delta =  L*tau\n",
    "            x1, x2 = a + delta, b - delta\n",
    "            f1, f2 = func(x1), func(x2)\n",
    "    \n",
    "            if f1 > f2:\n",
    "                b = x1\n",
    "                f1, x1 = f2, x2\n",
    "                L = b - a\n",
    "                x2, f2 = a + b - x1, func(x2)\n",
    "    \n",
    "            else:\n",
    "                a = x2\n",
    "                f2, x2 = f1, x1\n",
    "                L = b - a\n",
    "                x1, f1 = b - (x2 - a), func(x1)\n",
    "                \n",
    "        return (a+b)/2"
   ]
  },
  {
   "cell_type": "code",
   "execution_count": 33,
   "id": "dbf9e95d-ed5e-419d-98cd-edc783624c4b",
   "metadata": {},
   "outputs": [],
   "source": [
    "def Gauss(x, a, b, func, n=2, eps = 0.001):\n",
    "    y = x\n",
    "    j = 1\n",
    "    e = np.eye(n)\n",
    "    while(True):\n",
    "        f = lambda x: func(y+x*e[j-1])\n",
    "        lmbd = dihotomy(a, b, f)\n",
    "\n",
    "        y = y + lmbd*e[j-1]\n",
    "        if j == n:\n",
    "            x_pred = x\n",
    "            x = y\n",
    "            if np.linalg.norm(x - x_pred)<eps:\n",
    "                break\n",
    "            else:\n",
    "                j=1\n",
    "        else:\n",
    "            j+=1\n",
    "\n",
    "    return x"
   ]
  },
  {
   "cell_type": "code",
   "execution_count": 34,
   "id": "6506dd29-552d-4d69-8953-ab79888d4260",
   "metadata": {},
   "outputs": [],
   "source": [
    "def Cauchy(x, a, b, func, grad, eps = 0.001):\n",
    "    while(True):\n",
    "        if np.linalg.norm(grad(x)) < eps:\n",
    "            break\n",
    "        else:\n",
    "            S = -(grad(x) / np.linalg.norm(grad(x)))\n",
    "            f = lambda k: func(x+k*S)\n",
    "            lmbd = golden_ratio(a, b, f)\n",
    "            x = x + lmbd*S\n",
    "\n",
    "    return x"
   ]
  },
  {
   "cell_type": "code",
   "execution_count": 35,
   "id": "80693991-b701-4d7c-947d-3b0c3f4afbc8",
   "metadata": {},
   "outputs": [],
   "source": [
    "def HD(x, a, b, func, n=2, eps = 0.001):\n",
    "    y = x\n",
    "    j = 1\n",
    "    e = np.eye(n)\n",
    "    while(True):\n",
    "        f = lambda x: func(y+x*e[j-1])\n",
    "        lmbd = dihotomy(a, b, f)\n",
    "        y = y + lmbd*e[j-1]\n",
    "        if j == n:\n",
    "            x_pred = x\n",
    "            x = y\n",
    "            if np.linalg.norm(x - x_pred)<eps:\n",
    "                break\n",
    "            else:\n",
    "                d = x - x_pred\n",
    "                j=1\n",
    "                f = lambda x: func(y+x*d)\n",
    "                lmbd = dihotomy(a, b, f)\n",
    "                y = y + lmbd*d\n",
    "\n",
    "        else:\n",
    "            j+=1\n",
    "\n",
    "    return x"
   ]
  },
  {
   "cell_type": "code",
   "execution_count": 36,
   "id": "4c28de8e-d228-4a7f-820f-84830c81afdc",
   "metadata": {},
   "outputs": [],
   "source": [
    "def Rozenbroke(x, a, b, func, n=2, eps = 0.001):\n",
    "    y = x\n",
    "    j = 1\n",
    "    e = np.eye(n)\n",
    "    while(True):\n",
    "        f = lambda x: func(y+x*e[j-1])\n",
    "        lmbd = dihotomy(a, b, f)\n",
    "        \n",
    "        if lmbd>=0:\n",
    "            y = y + lmbd*e[j-1]\n",
    "            if j==n:\n",
    "                x_pred = x \n",
    "                x = y\n",
    "                if np.linalg.norm(x - x_pred)<eps:\n",
    "                    return x\n",
    "\n",
    "                else:\n",
    "                    g1 = e[0]\n",
    "                    g2 = e[1] - ((np.dot(e[1], g1)) / (np.linalg.norm(g1))**2) * g1\n",
    "                    e = np.array([g1, g2])\n",
    "        else:\n",
    "            j+=1"
   ]
  },
  {
   "cell_type": "code",
   "execution_count": 37,
   "id": "33637db4-025f-4c02-94ce-1de55edeb6bc",
   "metadata": {},
   "outputs": [],
   "source": [
    "x = [1, 1]\n",
    "a = -10\n",
    "b = 10\n",
    "func = lambda x: 20-(x[0]-1)*math.exp(-(x[0]-1))-(x[1]-2)*math.exp(-(x[1]-2))\n",
    "dfdx = lambda x: (x[0]-1)*np.exp(-(x[0]-1)) - np.exp(-(x[0]-1))\n",
    "dfdy = lambda x: (x[1]-2)*np.exp(-(x[1]-2)) - np.exp(-(x[1]-2))\n",
    "grad = lambda x: np.array([dfdx(x), dfdy(x)])"
   ]
  },
  {
   "cell_type": "code",
   "execution_count": 38,
   "id": "dfae1999-da5f-40c3-9b97-7dde8640bd0d",
   "metadata": {},
   "outputs": [],
   "source": [
    "import pandas as pd\n",
    "df = pd.DataFrame(\n",
    "    {'Gauss':Gauss(x, a, b, func), \n",
    "     'Cauchy':Cauchy(x, a, b, func, grad), \n",
    "     'Hooke-Jeeves':HD(x, a, b, func), \n",
    "     'Rozenbroke':Rozenbroke(x, a, b, func),\n",
    "    }, index = ['x', 'y'])"
   ]
  },
  {
   "cell_type": "code",
   "execution_count": 39,
   "id": "f58107be-3083-400d-b3b1-203d65c2fac0",
   "metadata": {},
   "outputs": [
    {
     "data": {
      "text/html": [
       "<div>\n",
       "<style scoped>\n",
       "    .dataframe tbody tr th:only-of-type {\n",
       "        vertical-align: middle;\n",
       "    }\n",
       "\n",
       "    .dataframe tbody tr th {\n",
       "        vertical-align: top;\n",
       "    }\n",
       "\n",
       "    .dataframe thead th {\n",
       "        text-align: right;\n",
       "    }\n",
       "</style>\n",
       "<table border=\"1\" class=\"dataframe\">\n",
       "  <thead>\n",
       "    <tr style=\"text-align: right;\">\n",
       "      <th></th>\n",
       "      <th>Gauss</th>\n",
       "      <th>Cauchy</th>\n",
       "      <th>Hooke-Jeeves</th>\n",
       "      <th>Rozenbroke</th>\n",
       "    </tr>\n",
       "  </thead>\n",
       "  <tbody>\n",
       "    <tr>\n",
       "      <th>x</th>\n",
       "      <td>1.999706</td>\n",
       "      <td>1.997329</td>\n",
       "      <td>2.000011</td>\n",
       "      <td>2.000011</td>\n",
       "    </tr>\n",
       "    <tr>\n",
       "      <th>y</th>\n",
       "      <td>3.000022</td>\n",
       "      <td>3.000334</td>\n",
       "      <td>3.000022</td>\n",
       "      <td>3.000022</td>\n",
       "    </tr>\n",
       "  </tbody>\n",
       "</table>\n",
       "</div>"
      ],
      "text/plain": [
       "      Gauss    Cauchy  Hooke-Jeeves  Rozenbroke\n",
       "x  1.999706  1.997329      2.000011    2.000011\n",
       "y  3.000022  3.000334      3.000022    3.000022"
      ]
     },
     "execution_count": 39,
     "metadata": {},
     "output_type": "execute_result"
    }
   ],
   "source": [
    "df"
   ]
  },
  {
   "cell_type": "code",
   "execution_count": null,
   "id": "7556fc37-51d2-45c1-abc5-cbfc40c0972a",
   "metadata": {},
   "outputs": [],
   "source": []
  }
 ],
 "metadata": {
  "kernelspec": {
   "display_name": "Python 3 (ipykernel)",
   "language": "python",
   "name": "python3"
  },
  "language_info": {
   "codemirror_mode": {
    "name": "ipython",
    "version": 3
   },
   "file_extension": ".py",
   "mimetype": "text/x-python",
   "name": "python",
   "nbconvert_exporter": "python",
   "pygments_lexer": "ipython3",
   "version": "3.9.0"
  }
 },
 "nbformat": 4,
 "nbformat_minor": 5
}

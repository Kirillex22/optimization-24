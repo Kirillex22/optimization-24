{
 "cells": [
  {
   "cell_type": "markdown",
   "id": "0d27c2f4-f591-4b49-bc43-3d7208d14542",
   "metadata": {},
   "source": [
    "# Лабораторная работа № 3: Методы многомерной оптимизации с ограничениям и"
   ]
  },
  {
   "cell_type": "markdown",
   "id": "37716ec1-aa8e-4000-ac52-1f7e51b38f6a",
   "metadata": {},
   "source": [
    "## Цель работы: ознакомление с методами поиска минимума функции двух  переменных в оптимизационных задачах c ограничениями (метод множителей Лагранжа, метод проектируемого градиента Д. Розена)."
   ]
  },
  {
   "cell_type": "code",
   "execution_count": 1,
   "id": "6d93bb56-a653-4948-a75c-f718a0e95020",
   "metadata": {},
   "outputs": [],
   "source": [
    "import numpy as np\n",
    "from scipy.optimize import linprog\n",
    "from scipy.optimize import minimize_scalar\n",
    "import sympy as sm \n",
    "from sympy import symbols "
   ]
  },
  {
   "cell_type": "markdown",
   "id": "d4e3d32b-3142-4097-a6f9-5ee27a7c943e",
   "metadata": {},
   "source": [
    "# Метод множителей Лагранжа"
   ]
  },
  {
   "cell_type": "code",
   "execution_count": 2,
   "id": "6e7f8805-2e9f-4109-88ca-393ffd423080",
   "metadata": {},
   "outputs": [
    {
     "name": "stdout",
     "output_type": "stream",
     "text": [
      "[(0.516397779494322, -0.774596669241483, -0.645497224367903), (-0.516397779494322, 0.774596669241483, 0.645497224367903)]\n"
     ]
    }
   ],
   "source": [
    "x, y, l = symbols('x y l')\n",
    "f =  x - y\n",
    "g =  1.5*x**2 + y**2 - 1\n",
    "lg = f + l*g\n",
    "grad = np.array([sm.diff(lg, x), sm.diff(lg, y), sm.diff(lg, l)])\n",
    "print(sm.solve(grad, (x, y, l)))"
   ]
  },
  {
   "cell_type": "markdown",
   "id": "17191e7c-2966-4978-a5db-6dbf4375aa93",
   "metadata": {},
   "source": [
    "# Метод Зойтендейка"
   ]
  },
  {
   "cell_type": "code",
   "execution_count": 3,
   "id": "fc953d1d-c2e9-4318-ae36-588a62ba9d1b",
   "metadata": {},
   "outputs": [],
   "source": [
    "class ZTDK:\n",
    "\n",
    "    def __init__(self, dim, f, constraints, grad):\n",
    "        self.dim = dim\n",
    "        self.f = f\n",
    "        self.constraints = constraints\n",
    "        self.grad = grad\n",
    "\n",
    "    def search_a_max(self, A2, b2, s, x): # поиск максимального значения размера шага альфа\n",
    "        b_new = b2 - A2 @ x\n",
    "        s_new = A2 @ s\n",
    "        a_list = []\n",
    "        for i in range(self.dim):\n",
    "            if(s_new[i] > 0):\n",
    "                a_list.append(b_new[i]/s_new[i])\n",
    "        if(len(a_list) == 0):\n",
    "            a_max = 99999\n",
    "        else:\n",
    "            a_max = np.min(a_list)\n",
    "        return a_max\n",
    "\n",
    "    def resolve_active_constraints(self, x): # смена конфигурации активных/неактивных в точке ограничений\n",
    "        A1, A2, b1, b2 = [], [], [], []\n",
    "        for constraint in self.constraints:\n",
    "            if(abs(constraint(x)) < eps):\n",
    "                A1.append(self.constraints[constraint][0])\n",
    "                b1.append(0)\n",
    "            else:\n",
    "                A2.append(self.constraints[constraint][0])\n",
    "                b2.append(self.constraints[constraint][1])\n",
    "\n",
    "        return np.array(A1), np.array(A2), np.array(b1), np.array(b2)\n",
    "\n",
    "    def optimize(self, x0, eps): # оптимизация\n",
    "        x = x0\n",
    "        A1, A2, b1, b2 = self.resolve_active_constraints(x)\n",
    "        counter = 0\n",
    "        while True:\n",
    "            c = self.grad(x)\n",
    "            s0_bounds = [-1, 1]\n",
    "            s1_bounds = [-1, 1]\n",
    "\n",
    "            res = linprog(c, A_ub=A1, b_ub=b1, bounds=[s0_bounds, s1_bounds]) # решение задачи ЛП по поиску возможного направления спуска\n",
    "            s = res.x\n",
    "\n",
    "            if(abs(c.T @ s) < eps): # критерий остановки\n",
    "                break\n",
    "            \n",
    "            a_max = self.search_a_max(A2, b2, s, x)\n",
    "            res = minimize_scalar(lambda alpha: self.f(x + alpha * s), bounds=(0, a_max), method='bounded')\n",
    "            alpha = res.x\n",
    "            x = x + s*alpha\n",
    "            A1, A2, b1, b2 = self.resolve_active_constraints(x)\n",
    "\n",
    "            counter += 1\n",
    "            print(f'iteration : {counter} || current_position: {x}')\n",
    "\n",
    "        return x"
   ]
  },
  {
   "cell_type": "code",
   "execution_count": 4,
   "id": "0f570e0e-3dc0-4151-9fb1-db0ccb13eaf4",
   "metadata": {},
   "outputs": [
    {
     "name": "stdout",
     "output_type": "stream",
     "text": [
      "iteration : 1 || current_position: [0.33332825 4.33332825]\n",
      "iteration : 2 || current_position: [0.35713959 4.28570558]\n",
      "[0.35713959 4.28570558]\n"
     ]
    }
   ],
   "source": [
    "f = lambda x: - 10*x[1] - 2*x[0]*x[1] + 6 * x[0]**2 + x[1]**2\n",
    "grad = lambda x: np.array([12*x[0] - 2*x[1], -2*x[0] + 2*x[1] - 10])\n",
    "\n",
    "g1 = lambda x: 2*x[0] + x[1] - 5\n",
    "g2 = lambda x: -2*x[0] - x[1] + 2\n",
    "g3 = lambda x: -x[0]\n",
    "g4 = lambda x: -x[1]\n",
    "\n",
    "eps = 1e-2\n",
    "\n",
    "d = {\n",
    "    g1 : [[2, 1], [5]],\n",
    "    g2 : [[-2, -1], [-2]],\n",
    "    g3 : [[-1, 0], [0]],\n",
    "    g4 : [[0, -1], [0]]\n",
    "}\n",
    "\n",
    "x0 = np.array([0, 4])\n",
    "\n",
    "ztd = ZTDK(2, f, d, grad)\n",
    "print(ztd.optimize(x0, eps))"
   ]
  }
 ],
 "metadata": {
  "kernelspec": {
   "display_name": "Python 3 (ipykernel)",
   "language": "python",
   "name": "python3"
  },
  "language_info": {
   "codemirror_mode": {
    "name": "ipython",
    "version": 3
   },
   "file_extension": ".py",
   "mimetype": "text/x-python",
   "name": "python",
   "nbconvert_exporter": "python",
   "pygments_lexer": "ipython3",
   "version": "3.9.0"
  }
 },
 "nbformat": 4,
 "nbformat_minor": 5
}
